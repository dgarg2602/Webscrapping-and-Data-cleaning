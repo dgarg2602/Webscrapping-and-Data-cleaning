{
 "cells": [
  {
   "cell_type": "code",
   "execution_count": 1,
   "metadata": {},
   "outputs": [
    {
     "name": "stdout",
     "output_type": "stream",
     "text": [
      "Requirement already satisfied: fuzzywuzzy in c:\\users\\dgarg\\anaconda3\\lib\\site-packages (0.18.0)\n",
      "Note: you may need to restart the kernel to use updated packages.\n"
     ]
    }
   ],
   "source": [
    "pip install fuzzywuzzy"
   ]
  },
  {
   "cell_type": "code",
   "execution_count": 2,
   "metadata": {},
   "outputs": [
    {
     "name": "stderr",
     "output_type": "stream",
     "text": [
      "C:\\Users\\dgarg\\anaconda3\\lib\\site-packages\\fuzzywuzzy\\fuzz.py:11: UserWarning: Using slow pure-python SequenceMatcher. Install python-Levenshtein to remove this warning\n",
      "  warnings.warn('Using slow pure-python SequenceMatcher. Install python-Levenshtein to remove this warning')\n"
     ]
    },
    {
     "name": "stdout",
     "output_type": "stream",
     "text": [
      "                                 Department/Ind.Agency  \\\n",
      "0                                             VETERANS   \n",
      "1              TRANSPORTATION Department/Ind.Agency OF   \n",
      "2                                              DEFENSE   \n",
      "3                                              DEFENSE   \n",
      "4                                          AGRICULTURE   \n",
      "..                                                 ...   \n",
      "144  HEALTH AND HUMAN SERVICES Department/Ind.Agenc...   \n",
      "145                                            DEFENSE   \n",
      "146                                            DEFENSE   \n",
      "147                                            DEFENSE   \n",
      "148                                        AGRICULTURE   \n",
      "\n",
      "                                               Awardee Awardee_Name  \\\n",
      "0                                                null           NaN   \n",
      "1                                                  nan          NaN   \n",
      "2    AMERICAN BACKFLOW PREVENTION ASSOCIATION West ...          NaN   \n",
      "3                                                  nan          NaN   \n",
      "4       TRINITY AVIATION L.L.C Georgetown TX 78628 USA          NaN   \n",
      "..                                                 ...          ...   \n",
      "144                                                nan          NaN   \n",
      "145                                                nan          NaN   \n",
      "146                                                nan          NaN   \n",
      "147                                                nan          NaN   \n",
      "148                                                nan          NaN   \n",
      "\n",
      "    Awardee_Location  \n",
      "0                NaN  \n",
      "1                NaN  \n",
      "2                NaN  \n",
      "3                NaN  \n",
      "4                NaN  \n",
      "..               ...  \n",
      "144              NaN  \n",
      "145              NaN  \n",
      "146              NaN  \n",
      "147              NaN  \n",
      "148              NaN  \n",
      "\n",
      "[149 rows x 4 columns]\n"
     ]
    }
   ],
   "source": [
    "import pandas as pd\n",
    "import re\n",
    "from fuzzywuzzy import process\n",
    "\n",
    "# Function to fix spelling mistakes using fuzzy matching\n",
    "def fix_spelling(word, choices):\n",
    "    best_match, score = process.extractOne(word, choices)\n",
    "    if score >= 90:  # Adjust threshold as needed\n",
    "        return best_match\n",
    "    else:\n",
    "        return word\n",
    "\n",
    "# Function to clean and fix the data\n",
    "def clean_data(df):\n",
    "    # Remove commas from agency names\n",
    "    df['Department/Ind.Agency'] = df['Department/Ind.Agency'].apply(lambda x: re.sub(r'(\\b[A-Z\\s&.]+),([A-Z\\s&.]+\\b)', r'\\1\\2', x))\n",
    "    df['Awardee'] = df['Awardee'].astype(str)\n",
    "    df['Awardee'] = df['Awardee'].apply(lambda x: re.sub(r'(\\b[A-Z\\s&.]+),([A-Z\\s&.]+\\b)', r'\\1\\2', x))\n",
    "    \n",
    "    # Fix spelling mistakes and incomplete words\n",
    "    df['Department/Ind.Agency'] = df['Department/Ind.Agency'].apply(lambda x: re.sub(r'\\bDEPT OF\\b', 'DEPARTMENT OF', x))\n",
    "    df['Department/Ind.Agency'] = df['Department/Ind.Agency'].apply(lambda x: re.sub(r'\\bAGRICULTUR[A-Za-z]+\\b', 'AGRICULTURE', x))\n",
    "    df['Department/Ind.Agency'] = df['Department/Ind.Agency'].apply(lambda x: re.sub(r'\\bVETERANS AFFAIRS\\b', 'VETERANS AFFAIRS', x))\n",
    "    df['Department/Ind.Agency'] = df['Department/Ind.Agency'].apply(lambda x: re.sub(r'\\bDEPARTMENT[A-Za-z]*\\b', 'Department/Ind.Agency', x))\n",
    "    df['Department/Ind.Agency'] = df['Department/Ind.Agency'].apply(lambda x: re.sub(r'\\bHOMELAND SECURITY\\b', 'HOMELAND SECURITY', x))\n",
    "    df['Department/Ind.Agency'] = df['Department/Ind.Agency'].apply(lambda x: re.sub(r'\\bINTERIOR\\b', 'INTERIOR', x))\n",
    "    \n",
    "    # Fix spelling mistakes using fuzzy matching\n",
    "    choices = ['DEFENSE', 'AGRICULTURE', 'VETERANS', 'AFFAIRS', 'HOMELAND', 'SECURITY', 'INTERIOR']\n",
    "    df['Department/Ind.Agency'] = df['Department/Ind.Agency'].apply(lambda x: fix_spelling(x, choices))\n",
    "    \n",
    "    # Split the data into department and awardee parts\n",
    "    df[['Awardee_Name', 'Awardee_Location']] = df['Awardee'].str.extract(r'(.*),\\s*(.*)')\n",
    "\n",
    "    # Normalize department names\n",
    "    df['Department/Ind.Agency'] = df['Department/Ind.Agency'].str.strip().str.replace('DEPARTMENT OF', '').str.strip()\n",
    "    \n",
    "    return df\n",
    "\n",
    "\n",
    "# Convert the sample data to a DataFrame\n",
    "df = pd.read_csv(r\"C:\\Users\\dgarg\\Downloads\\Book2.csv\")\n",
    "\n",
    "# Clean the DataFrame\n",
    "cleaned_df = clean_data(df)\n",
    "\n",
    "# Print the cleaned DataFrame\n",
    "print(cleaned_df)\n"
   ]
  },
  {
   "cell_type": "code",
   "execution_count": null,
   "metadata": {},
   "outputs": [],
   "source": []
  }
 ],
 "metadata": {
  "kernelspec": {
   "display_name": "Python 3",
   "language": "python",
   "name": "python3"
  },
  "language_info": {
   "codemirror_mode": {
    "name": "ipython",
    "version": 3
   },
   "file_extension": ".py",
   "mimetype": "text/x-python",
   "name": "python",
   "nbconvert_exporter": "python",
   "pygments_lexer": "ipython3",
   "version": "3.8.3"
  }
 },
 "nbformat": 4,
 "nbformat_minor": 4
}
