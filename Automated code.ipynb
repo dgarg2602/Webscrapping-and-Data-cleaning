{
 "cells": [
  {
   "cell_type": "code",
   "execution_count": 17,
   "metadata": {},
   "outputs": [],
   "source": [
    "import pandas as pd"
   ]
  },
  {
   "cell_type": "code",
   "execution_count": 18,
   "metadata": {},
   "outputs": [
    {
     "ename": "WebDriverException",
     "evalue": "Message: disconnected: Unable to receive message from renderer\n  (failed to check if window was closed: disconnected: not connected to DevTools)\n  (Session info: chrome=124.0.6367.78)\nStacktrace:\n\tGetHandleVerifier [0x00007FF63A6C1522+60802]\n\t(No symbol) [0x00007FF63A63AC22]\n\t(No symbol) [0x00007FF63A4F7CE4]\n\t(No symbol) [0x00007FF63A4E0FE1]\n\t(No symbol) [0x00007FF63A4E0D42]\n\t(No symbol) [0x00007FF63A4DFC16]\n\t(No symbol) [0x00007FF63A5053AE]\n\t(No symbol) [0x00007FF63A58A582]\n\t(No symbol) [0x00007FF63A56A923]\n\t(No symbol) [0x00007FF63A538FEC]\n\t(No symbol) [0x00007FF63A539C21]\n\tGetHandleVerifier [0x00007FF63A9C413D+3217821]\n\tGetHandleVerifier [0x00007FF63AA060D7+3488055]\n\tGetHandleVerifier [0x00007FF63A9FF05F+3459263]\n\tGetHandleVerifier [0x00007FF63A77B866+823494]\n\t(No symbol) [0x00007FF63A645FBF]\n\t(No symbol) [0x00007FF63A640EE4]\n\t(No symbol) [0x00007FF63A641072]\n\t(No symbol) [0x00007FF63A6318C4]\n\tBaseThreadInitThunk [0x00007FFBBD86257D+29]\n\tRtlUserThreadStart [0x00007FFBBF0EAA48+40]\n",
     "output_type": "error",
     "traceback": [
      "\u001b[1;31m---------------------------------------------------------------------------\u001b[0m",
      "\u001b[1;31mWebDriverException\u001b[0m                        Traceback (most recent call last)",
      "\u001b[1;32m<ipython-input-18-9750cbc915cb>\u001b[0m in \u001b[0;36m<module>\u001b[1;34m\u001b[0m\n\u001b[0;32m     82\u001b[0m \u001b[1;33m\u001b[0m\u001b[0m\n\u001b[0;32m     83\u001b[0m \u001b[1;31m# Scrape data from the URL\u001b[0m\u001b[1;33m\u001b[0m\u001b[1;33m\u001b[0m\u001b[1;33m\u001b[0m\u001b[0m\n\u001b[1;32m---> 84\u001b[1;33m \u001b[0mdata\u001b[0m \u001b[1;33m=\u001b[0m \u001b[0mscrape_data\u001b[0m\u001b[1;33m(\u001b[0m\u001b[0murl\u001b[0m\u001b[1;33m,\u001b[0m \u001b[0mmax_entries\u001b[0m\u001b[1;33m)\u001b[0m\u001b[1;33m\u001b[0m\u001b[1;33m\u001b[0m\u001b[0m\n\u001b[0m\u001b[0;32m     85\u001b[0m \u001b[1;33m\u001b[0m\u001b[0m\n\u001b[0;32m     86\u001b[0m \u001b[1;31m# Print the number of entries scraped\u001b[0m\u001b[1;33m\u001b[0m\u001b[1;33m\u001b[0m\u001b[1;33m\u001b[0m\u001b[0m\n",
      "\u001b[1;32m<ipython-input-18-9750cbc915cb>\u001b[0m in \u001b[0;36mscrape_data\u001b[1;34m(url, max_entries)\u001b[0m\n\u001b[0;32m     63\u001b[0m         \u001b[1;32mif\u001b[0m \u001b[0mnext_buttons\u001b[0m\u001b[1;33m:\u001b[0m\u001b[1;33m\u001b[0m\u001b[1;33m\u001b[0m\u001b[0m\n\u001b[0;32m     64\u001b[0m             \u001b[1;31m# Click on the first \"Next\" button\u001b[0m\u001b[1;33m\u001b[0m\u001b[1;33m\u001b[0m\u001b[1;33m\u001b[0m\u001b[0m\n\u001b[1;32m---> 65\u001b[1;33m             \u001b[0mnext_buttons\u001b[0m\u001b[1;33m[\u001b[0m\u001b[1;36m0\u001b[0m\u001b[1;33m]\u001b[0m\u001b[1;33m.\u001b[0m\u001b[0mclick\u001b[0m\u001b[1;33m(\u001b[0m\u001b[1;33m)\u001b[0m\u001b[1;33m\u001b[0m\u001b[1;33m\u001b[0m\u001b[0m\n\u001b[0m\u001b[0;32m     66\u001b[0m         \u001b[1;32melse\u001b[0m\u001b[1;33m:\u001b[0m\u001b[1;33m\u001b[0m\u001b[1;33m\u001b[0m\u001b[0m\n\u001b[0;32m     67\u001b[0m             \u001b[1;32mbreak\u001b[0m  \u001b[1;31m# Break the loop if there are no more pages\u001b[0m\u001b[1;33m\u001b[0m\u001b[1;33m\u001b[0m\u001b[0m\n",
      "\u001b[1;32m~\\anaconda3\\lib\\site-packages\\selenium\\webdriver\\remote\\webelement.py\u001b[0m in \u001b[0;36mclick\u001b[1;34m(self)\u001b[0m\n\u001b[0;32m     92\u001b[0m     \u001b[1;32mdef\u001b[0m \u001b[0mclick\u001b[0m\u001b[1;33m(\u001b[0m\u001b[0mself\u001b[0m\u001b[1;33m)\u001b[0m \u001b[1;33m->\u001b[0m \u001b[1;32mNone\u001b[0m\u001b[1;33m:\u001b[0m\u001b[1;33m\u001b[0m\u001b[1;33m\u001b[0m\u001b[0m\n\u001b[0;32m     93\u001b[0m         \u001b[1;34m\"\"\"Clicks the element.\"\"\"\u001b[0m\u001b[1;33m\u001b[0m\u001b[1;33m\u001b[0m\u001b[0m\n\u001b[1;32m---> 94\u001b[1;33m         \u001b[0mself\u001b[0m\u001b[1;33m.\u001b[0m\u001b[0m_execute\u001b[0m\u001b[1;33m(\u001b[0m\u001b[0mCommand\u001b[0m\u001b[1;33m.\u001b[0m\u001b[0mCLICK_ELEMENT\u001b[0m\u001b[1;33m)\u001b[0m\u001b[1;33m\u001b[0m\u001b[1;33m\u001b[0m\u001b[0m\n\u001b[0m\u001b[0;32m     95\u001b[0m \u001b[1;33m\u001b[0m\u001b[0m\n\u001b[0;32m     96\u001b[0m     \u001b[1;32mdef\u001b[0m \u001b[0msubmit\u001b[0m\u001b[1;33m(\u001b[0m\u001b[0mself\u001b[0m\u001b[1;33m)\u001b[0m \u001b[1;33m->\u001b[0m \u001b[1;32mNone\u001b[0m\u001b[1;33m:\u001b[0m\u001b[1;33m\u001b[0m\u001b[1;33m\u001b[0m\u001b[0m\n",
      "\u001b[1;32m~\\anaconda3\\lib\\site-packages\\selenium\\webdriver\\remote\\webelement.py\u001b[0m in \u001b[0;36m_execute\u001b[1;34m(self, command, params)\u001b[0m\n\u001b[0;32m    393\u001b[0m             \u001b[0mparams\u001b[0m \u001b[1;33m=\u001b[0m \u001b[1;33m{\u001b[0m\u001b[1;33m}\u001b[0m\u001b[1;33m\u001b[0m\u001b[1;33m\u001b[0m\u001b[0m\n\u001b[0;32m    394\u001b[0m         \u001b[0mparams\u001b[0m\u001b[1;33m[\u001b[0m\u001b[1;34m\"id\"\u001b[0m\u001b[1;33m]\u001b[0m \u001b[1;33m=\u001b[0m \u001b[0mself\u001b[0m\u001b[1;33m.\u001b[0m\u001b[0m_id\u001b[0m\u001b[1;33m\u001b[0m\u001b[1;33m\u001b[0m\u001b[0m\n\u001b[1;32m--> 395\u001b[1;33m         \u001b[1;32mreturn\u001b[0m \u001b[0mself\u001b[0m\u001b[1;33m.\u001b[0m\u001b[0m_parent\u001b[0m\u001b[1;33m.\u001b[0m\u001b[0mexecute\u001b[0m\u001b[1;33m(\u001b[0m\u001b[0mcommand\u001b[0m\u001b[1;33m,\u001b[0m \u001b[0mparams\u001b[0m\u001b[1;33m)\u001b[0m\u001b[1;33m\u001b[0m\u001b[1;33m\u001b[0m\u001b[0m\n\u001b[0m\u001b[0;32m    396\u001b[0m \u001b[1;33m\u001b[0m\u001b[0m\n\u001b[0;32m    397\u001b[0m     \u001b[1;32mdef\u001b[0m \u001b[0mfind_element\u001b[0m\u001b[1;33m(\u001b[0m\u001b[0mself\u001b[0m\u001b[1;33m,\u001b[0m \u001b[0mby\u001b[0m\u001b[1;33m=\u001b[0m\u001b[0mBy\u001b[0m\u001b[1;33m.\u001b[0m\u001b[0mID\u001b[0m\u001b[1;33m,\u001b[0m \u001b[0mvalue\u001b[0m\u001b[1;33m=\u001b[0m\u001b[1;32mNone\u001b[0m\u001b[1;33m)\u001b[0m \u001b[1;33m->\u001b[0m \u001b[0mWebElement\u001b[0m\u001b[1;33m:\u001b[0m\u001b[1;33m\u001b[0m\u001b[1;33m\u001b[0m\u001b[0m\n",
      "\u001b[1;32m~\\anaconda3\\lib\\site-packages\\selenium\\webdriver\\remote\\webdriver.py\u001b[0m in \u001b[0;36mexecute\u001b[1;34m(self, driver_command, params)\u001b[0m\n\u001b[0;32m    345\u001b[0m         \u001b[0mresponse\u001b[0m \u001b[1;33m=\u001b[0m \u001b[0mself\u001b[0m\u001b[1;33m.\u001b[0m\u001b[0mcommand_executor\u001b[0m\u001b[1;33m.\u001b[0m\u001b[0mexecute\u001b[0m\u001b[1;33m(\u001b[0m\u001b[0mdriver_command\u001b[0m\u001b[1;33m,\u001b[0m \u001b[0mparams\u001b[0m\u001b[1;33m)\u001b[0m\u001b[1;33m\u001b[0m\u001b[1;33m\u001b[0m\u001b[0m\n\u001b[0;32m    346\u001b[0m         \u001b[1;32mif\u001b[0m \u001b[0mresponse\u001b[0m\u001b[1;33m:\u001b[0m\u001b[1;33m\u001b[0m\u001b[1;33m\u001b[0m\u001b[0m\n\u001b[1;32m--> 347\u001b[1;33m             \u001b[0mself\u001b[0m\u001b[1;33m.\u001b[0m\u001b[0merror_handler\u001b[0m\u001b[1;33m.\u001b[0m\u001b[0mcheck_response\u001b[0m\u001b[1;33m(\u001b[0m\u001b[0mresponse\u001b[0m\u001b[1;33m)\u001b[0m\u001b[1;33m\u001b[0m\u001b[1;33m\u001b[0m\u001b[0m\n\u001b[0m\u001b[0;32m    348\u001b[0m             \u001b[0mresponse\u001b[0m\u001b[1;33m[\u001b[0m\u001b[1;34m\"value\"\u001b[0m\u001b[1;33m]\u001b[0m \u001b[1;33m=\u001b[0m \u001b[0mself\u001b[0m\u001b[1;33m.\u001b[0m\u001b[0m_unwrap_value\u001b[0m\u001b[1;33m(\u001b[0m\u001b[0mresponse\u001b[0m\u001b[1;33m.\u001b[0m\u001b[0mget\u001b[0m\u001b[1;33m(\u001b[0m\u001b[1;34m\"value\"\u001b[0m\u001b[1;33m,\u001b[0m \u001b[1;32mNone\u001b[0m\u001b[1;33m)\u001b[0m\u001b[1;33m)\u001b[0m\u001b[1;33m\u001b[0m\u001b[1;33m\u001b[0m\u001b[0m\n\u001b[0;32m    349\u001b[0m             \u001b[1;32mreturn\u001b[0m \u001b[0mresponse\u001b[0m\u001b[1;33m\u001b[0m\u001b[1;33m\u001b[0m\u001b[0m\n",
      "\u001b[1;32m~\\anaconda3\\lib\\site-packages\\selenium\\webdriver\\remote\\errorhandler.py\u001b[0m in \u001b[0;36mcheck_response\u001b[1;34m(self, response)\u001b[0m\n\u001b[0;32m    227\u001b[0m                 \u001b[0malert_text\u001b[0m \u001b[1;33m=\u001b[0m \u001b[0mvalue\u001b[0m\u001b[1;33m[\u001b[0m\u001b[1;34m\"alert\"\u001b[0m\u001b[1;33m]\u001b[0m\u001b[1;33m.\u001b[0m\u001b[0mget\u001b[0m\u001b[1;33m(\u001b[0m\u001b[1;34m\"text\"\u001b[0m\u001b[1;33m)\u001b[0m\u001b[1;33m\u001b[0m\u001b[1;33m\u001b[0m\u001b[0m\n\u001b[0;32m    228\u001b[0m             \u001b[1;32mraise\u001b[0m \u001b[0mexception_class\u001b[0m\u001b[1;33m(\u001b[0m\u001b[0mmessage\u001b[0m\u001b[1;33m,\u001b[0m \u001b[0mscreen\u001b[0m\u001b[1;33m,\u001b[0m \u001b[0mstacktrace\u001b[0m\u001b[1;33m,\u001b[0m \u001b[0malert_text\u001b[0m\u001b[1;33m)\u001b[0m  \u001b[1;31m# type: ignore[call-arg]  # mypy is not smart enough here\u001b[0m\u001b[1;33m\u001b[0m\u001b[1;33m\u001b[0m\u001b[0m\n\u001b[1;32m--> 229\u001b[1;33m         \u001b[1;32mraise\u001b[0m \u001b[0mexception_class\u001b[0m\u001b[1;33m(\u001b[0m\u001b[0mmessage\u001b[0m\u001b[1;33m,\u001b[0m \u001b[0mscreen\u001b[0m\u001b[1;33m,\u001b[0m \u001b[0mstacktrace\u001b[0m\u001b[1;33m)\u001b[0m\u001b[1;33m\u001b[0m\u001b[1;33m\u001b[0m\u001b[0m\n\u001b[0m",
      "\u001b[1;31mWebDriverException\u001b[0m: Message: disconnected: Unable to receive message from renderer\n  (failed to check if window was closed: disconnected: not connected to DevTools)\n  (Session info: chrome=124.0.6367.78)\nStacktrace:\n\tGetHandleVerifier [0x00007FF63A6C1522+60802]\n\t(No symbol) [0x00007FF63A63AC22]\n\t(No symbol) [0x00007FF63A4F7CE4]\n\t(No symbol) [0x00007FF63A4E0FE1]\n\t(No symbol) [0x00007FF63A4E0D42]\n\t(No symbol) [0x00007FF63A4DFC16]\n\t(No symbol) [0x00007FF63A5053AE]\n\t(No symbol) [0x00007FF63A58A582]\n\t(No symbol) [0x00007FF63A56A923]\n\t(No symbol) [0x00007FF63A538FEC]\n\t(No symbol) [0x00007FF63A539C21]\n\tGetHandleVerifier [0x00007FF63A9C413D+3217821]\n\tGetHandleVerifier [0x00007FF63AA060D7+3488055]\n\tGetHandleVerifier [0x00007FF63A9FF05F+3459263]\n\tGetHandleVerifier [0x00007FF63A77B866+823494]\n\t(No symbol) [0x00007FF63A645FBF]\n\t(No symbol) [0x00007FF63A640EE4]\n\t(No symbol) [0x00007FF63A641072]\n\t(No symbol) [0x00007FF63A6318C4]\n\tBaseThreadInitThunk [0x00007FFBBD86257D+29]\n\tRtlUserThreadStart [0x00007FFBBF0EAA48+40]\n"
     ]
    }
   ],
   "source": [
    "from selenium import webdriver\n",
    "from bs4 import BeautifulSoup\n",
    "\n",
    "def scrape_data(url, max_entries):\n",
    "    # Initialize an empty list to store the scraped data\n",
    "    scraped_data = []\n",
    "\n",
    "    # Initialize the web driver\n",
    "    driver = webdriver.Chrome()  # Ensure ChromeDriver is in your PATH or specify the path\n",
    "\n",
    "    # Initialize a counter for the number of clicks on the \"Next\" button\n",
    "    next_button_clicks = 0\n",
    "\n",
    "    # Open the URL\n",
    "    driver.get(url)\n",
    "\n",
    "    while True:  # Continue looping until the desired number of entries is reached\n",
    "        # Parse the HTML content\n",
    "        soup = BeautifulSoup(driver.page_source, 'html.parser')\n",
    "\n",
    "        # Find the table containing the data\n",
    "        table = soup.find('table', class_='list_table')\n",
    "\n",
    "        # Check if the table exists\n",
    "        if table:\n",
    "            # Find all rows in the table\n",
    "            rows = table.find_all('tr')\n",
    "\n",
    "            # Loop through each row (skipping the header row)\n",
    "            for row in rows[1:]:\n",
    "                # Find all columns in the row\n",
    "                cols = row.find_all('td')\n",
    "\n",
    "                # Extract relevant data from each column\n",
    "                tender_id = cols[0].text.strip()\n",
    "                tender_description = cols[1].text.strip()\n",
    "                tender_organization = cols[2].text.strip()\n",
    "                tender_link = cols[3].find('a')['href'] if cols[3].find('a') else None\n",
    "                tender_date = cols[3].text.strip()  # Assuming the date is also visible as text\n",
    "                other_column = cols[4].text.strip()  # Assuming there's one more column\n",
    "\n",
    "                # Append the data to the list\n",
    "                scraped_data.append({\n",
    "                    'Tender ID': tender_id,\n",
    "                    'Description': tender_description,\n",
    "                    'Organization': tender_organization,\n",
    "                    'Date': tender_date,\n",
    "                    'Link': tender_link,\n",
    "                    'Other Column': other_column\n",
    "                })\n",
    "\n",
    "                # Check if the number of entries reached the maximum limit\n",
    "                if len(scraped_data) >= max_entries:\n",
    "                    print(\"Reached maximum entries limit.\")\n",
    "                    driver.quit()\n",
    "                    return scraped_data\n",
    "\n",
    "        # Increment the counter for the number of clicks on the \"Next\" button\n",
    "        next_button_clicks += 1\n",
    "\n",
    "        # Find all \"Next\" buttons by class name and href attribute\n",
    "        next_buttons = driver.find_elements('xpath', '//a[@class=\"paginate_button\" and contains(text(), \"Next\")]')\n",
    "        if next_buttons:\n",
    "            # Click on the first \"Next\" button\n",
    "            next_buttons[0].click()\n",
    "        else:\n",
    "            break  # Break the loop if there are no more pages\n",
    "\n",
    "    # Close the web driver\n",
    "    driver.quit()\n",
    "\n",
    "    # Output the number of times the \"Next\" button has been clicked\n",
    "    print(\"Number of times 'Next' button clicked:\", next_button_clicks)\n",
    "\n",
    "    return scraped_data\n",
    "\n",
    "# URL of the website\n",
    "url = \"https://eprocure.gov.in/cppp/resultoftendersnew/cpppdata/byYzJWc1pXTjBBMTNoMUExM2gxQTEzaDFBMTNoMU1qQXlNdz09QTEzaDFVSFZpYkdsemFHVms=\"\n",
    "\n",
    "# Maximum number of entries to scrape\n",
    "max_entries = 92410\n",
    "\n",
    "# Scrape data from the URL\n",
    "data = scrape_data(url, max_entries)\n",
    "\n",
    "# Print the number of entries scraped\n",
    "print(\"Total Entries Scraped:\", len(data))\n",
    "\n",
    "# Print the first few scraped entries\n",
    "for entry in data[:5]:\n",
    "    print(entry)\n"
   ]
  },
  {
   "cell_type": "code",
   "execution_count": null,
   "metadata": {},
   "outputs": [],
   "source": [
    "data=pd.DataFrame.from_dict(data)"
   ]
  },
  {
   "cell_type": "code",
   "execution_count": null,
   "metadata": {},
   "outputs": [],
   "source": [
    "data.to_csv(r\"C:\\Users\\dgarg\\Downloads\\data extracted\\gov.csv\")"
   ]
  },
  {
   "cell_type": "code",
   "execution_count": null,
   "metadata": {},
   "outputs": [],
   "source": []
  }
 ],
 "metadata": {
  "kernelspec": {
   "display_name": "Python 3",
   "language": "python",
   "name": "python3"
  },
  "language_info": {
   "codemirror_mode": {
    "name": "ipython",
    "version": 3
   },
   "file_extension": ".py",
   "mimetype": "text/x-python",
   "name": "python",
   "nbconvert_exporter": "python",
   "pygments_lexer": "ipython3",
   "version": "3.8.3"
  }
 },
 "nbformat": 4,
 "nbformat_minor": 4
}
